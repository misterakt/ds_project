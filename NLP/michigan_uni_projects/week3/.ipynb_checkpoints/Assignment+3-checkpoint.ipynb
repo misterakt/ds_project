{
 "cells": [
  {
   "cell_type": "markdown",
   "metadata": {},
   "source": [
    "---\n",
    "\n",
    "_You are currently looking at **version 1.1** of this notebook. To download notebooks and datafiles, as well as get help on Jupyter notebooks in the Coursera platform, visit the [Jupyter Notebook FAQ](https://www.coursera.org/learn/python-text-mining/resources/d9pwm) course resource._\n",
    "\n",
    "---"
   ]
  },
  {
   "cell_type": "markdown",
   "metadata": {},
   "source": [
    "# Assignment 3\n",
    "\n",
    "In this assignment you will explore text message data and create models to predict if a message is spam or not. "
   ]
  },
  {
   "cell_type": "code",
   "execution_count": 1,
   "metadata": {},
   "outputs": [],
   "source": [
    "import pandas as pd\n",
    "import numpy as np\n",
    "\n",
    "spam_data = pd.read_csv('spam.csv')\n",
    "\n",
    "\n",
    "spam_data['target'] = np.where(spam_data['target']=='spam',1,0)\n"
   ]
  },
  {
   "cell_type": "code",
   "execution_count": 2,
   "metadata": {},
   "outputs": [],
   "source": [
    "from sklearn.model_selection import train_test_split\n",
    "\n",
    "\n",
    "X_train, X_test, y_train, y_test = train_test_split(spam_data['text'], \n",
    "                                                    spam_data['target'], \n",
    "                                                    random_state=0)\n"
   ]
  },
  {
   "cell_type": "markdown",
   "metadata": {},
   "source": [
    "### Question 1\n",
    "What percentage of the documents in `spam_data` are spam?\n",
    "\n",
    "*This function should return a float, the percent value (i.e. $ratio * 100$).*"
   ]
  },
  {
   "cell_type": "code",
   "execution_count": 3,
   "metadata": {},
   "outputs": [
    {
     "data": {
      "text/plain": [
       "13.406317300789663"
      ]
     },
     "execution_count": 3,
     "metadata": {},
     "output_type": "execute_result"
    }
   ],
   "source": [
    "def answer_one():\n",
    "    \n",
    "    non_spam=spam_data.groupby(['target']).agg(['count']).loc[0][0]\n",
    "    yes_spam=spam_data.groupby(['target']).agg(['count']).loc[1][0]\n",
    "\n",
    "    \n",
    "    \n",
    "    return (yes_spam/(non_spam+yes_spam))*100#Your answer here\n",
    "\n",
    "answer_one()\n"
   ]
  },
  {
   "cell_type": "markdown",
   "metadata": {},
   "source": [
    "### Question 2\n",
    "\n",
    "Fit the training data `X_train` using a Count Vectorizer with default parameters.\n",
    "\n",
    "What is the longest token in the vocabulary?\n",
    "\n",
    "*This function should return a string.*"
   ]
  },
  {
   "cell_type": "code",
   "execution_count": 5,
   "metadata": {},
   "outputs": [
    {
     "data": {
      "text/plain": [
       "'com1win150ppmx3age16subscription'"
      ]
     },
     "execution_count": 5,
     "metadata": {},
     "output_type": "execute_result"
    }
   ],
   "source": [
    "from sklearn.feature_extraction.text import CountVectorizer\n",
    "\n",
    "def answer_two():\n",
    "   \n",
    "    vect=CountVectorizer().fit(X_train)\n",
    "    long_word_list=[(i,len(i)) for i in vect.get_feature_names()]\n",
    "\n",
    "    longest_word=''\n",
    "    for i in long_word_list:\n",
    "        #print(i[1])\n",
    "        if len(i[0]) > len(longest_word):\n",
    "            longest_word=i[0]\n",
    "        else:\n",
    "            continue \n",
    "\n",
    "    return longest_word#Your answer here\n",
    "\n",
    "answer_two()"
   ]
  },
  {
   "cell_type": "markdown",
   "metadata": {},
   "source": [
    "### Question 3\n",
    "\n",
    "Fit and transform the training data `X_train` using a Count Vectorizer with default parameters.\n",
    "\n",
    "Next, fit a fit a multinomial Naive Bayes classifier model with smoothing `alpha=0.1`. Find the area under the curve (AUC) score using the transformed test data.\n",
    "\n",
    "*This function should return the AUC score as a float.*"
   ]
  },
  {
   "cell_type": "code",
   "execution_count": 6,
   "metadata": {},
   "outputs": [
    {
     "data": {
      "text/plain": [
       "0.9720812182741116"
      ]
     },
     "execution_count": 6,
     "metadata": {},
     "output_type": "execute_result"
    }
   ],
   "source": [
    "from sklearn.naive_bayes import MultinomialNB\n",
    "from sklearn.metrics import roc_auc_score\n",
    "\n",
    "def answer_three():\n",
    "\n",
    "\n",
    "    clf=MultinomialNB(alpha=0.1)\n",
    "    vect=CountVectorizer().fit(X_train)\n",
    "    X_train_vectorized = vect.transform(X_train)\n",
    "    clf.fit(X_train_vectorized,y_train)\n",
    "    prediction=clf.predict(vect.transform(X_test))\n",
    "\n",
    "\n",
    "    \n",
    "    return roc_auc_score(y_test,prediction)#Your answer here\n",
    "\n",
    "answer_three()\n"
   ]
  },
  {
   "cell_type": "markdown",
   "metadata": {},
   "source": [
    "### Question 4\n",
    "\n",
    "Fit and transform the training data `X_train` using a Tfidf Vectorizer with default parameters.\n",
    "\n",
    "What 20 features have the smallest tf-idf and what 20 have the largest tf-idf?\n",
    "\n",
    "Put these features in a two series where each series is sorted by tf-idf value and then alphabetically by feature name. The index of the series should be the feature name, and the data should be the tf-idf.\n",
    "\n",
    "The series of 20 features with smallest tf-idfs should be sorted smallest tfidf first, the list of 20 features with largest tf-idfs should be sorted largest first. \n",
    "\n",
    "*This function should return a tuple of two series\n",
    "`(smallest tf-idfs series, largest tf-idfs series)`.*"
   ]
  },
  {
   "cell_type": "code",
   "execution_count": 22,
   "metadata": {},
   "outputs": [
    {
     "name": "stdout",
     "output_type": "stream",
     "text": [
      "[6305 3196  689 ... 3293 3180  274]\n"
     ]
    },
    {
     "data": {
      "text/plain": [
       "(array(['sympathetic', 'healer', 'aaniye', 'dependable', 'companion',\n",
       "        'listener', 'athletic', 'exterminator', 'psychiatrist', 'pest'],\n",
       "       dtype='<U32'),\n",
       " array(['146tf150p', 'havent', 'home', 'okie', 'thanx', 'er', 'anything',\n",
       "        'lei', 'nite', 'yup'], dtype='<U32'))"
      ]
     },
     "execution_count": 22,
     "metadata": {},
     "output_type": "execute_result"
    }
   ],
   "source": [
    "from sklearn.feature_extraction.text import TfidfVectorizer\n",
    "##https://kavita-ganesan.com/tfidftransformer-tfidfvectorizer-usage-differences/\n",
    "##https://datascienceschool.net/view-notebook/3e7aadbf88ed4f0d87a76f9ddc925d69/\n",
    "\n",
    "def answer_four():\n",
    "    vect=TfidfVectorizer().fit(X_train)\n",
    "    X_train_vectorized = vect.transform(X_train)\n",
    "    feature_names=np.array(vect.get_feature_names())\n",
    "\n",
    "    sorted_tfidf = X_train_vectorized.max(0).toarray()[0].argsort()\n",
    "    print(sorted_tfidf)\n",
    "\n",
    "    #[0].argsort()\n",
    "\n",
    "    return (feature_names[sorted_tfidf[:10]],feature_names[sorted_tfidf[:-11:-1]])\n",
    "\n",
    "\n",
    "answer_four()"
   ]
  },
  {
   "cell_type": "code",
   "execution_count": null,
   "metadata": {
    "collapsed": true
   },
   "outputs": [],
   "source": [
    "answer_four()"
   ]
  },
  {
   "cell_type": "markdown",
   "metadata": {},
   "source": [
    "### Question 5\n",
    "\n",
    "Fit and transform the training data `X_train` using a Tfidf Vectorizer ignoring terms that have a document frequency strictly lower than **3**.\n",
    "\n",
    "Then fit a multinomial Naive Bayes classifier model with smoothing `alpha=0.1` and compute the area under the curve (AUC) score using the transformed test data.\n",
    "\n",
    "*This function should return the AUC score as a float.*"
   ]
  },
  {
   "cell_type": "code",
   "execution_count": 27,
   "metadata": {},
   "outputs": [
    {
     "data": {
      "text/plain": [
       "0.9416243654822335"
      ]
     },
     "execution_count": 27,
     "metadata": {},
     "output_type": "execute_result"
    }
   ],
   "source": [
    "def answer_five():\n",
    "    from sklearn.naive_bayes import MultinomialNB\n",
    "    from sklearn.metrics import roc_auc_score\n",
    "\n",
    "    vect=TfidfVectorizer(min_df=3).fit(X_train)\n",
    "    X_train_vect=vect.transform(X_train)\n",
    "\n",
    "    mnb = MultinomialNB(alpha=0.1)\n",
    "    mnb.fit(X_train_vect,y_train)\n",
    "    pred=mnb.predict(vect.transform(X_test))\n",
    "\n",
    "    \n",
    "    return roc_auc_score(y_test,pred)#Your answer here\n",
    "\n",
    "answer_five()"
   ]
  },
  {
   "cell_type": "markdown",
   "metadata": {},
   "source": [
    "### Question 6\n",
    "\n",
    "What is the average length of documents (number of characters) for not spam and spam documents?\n",
    "\n",
    "*This function should return a tuple (average length not spam, average length spam).*"
   ]
  },
  {
   "cell_type": "code",
   "execution_count": 53,
   "metadata": {},
   "outputs": [
    {
     "data": {
      "text/plain": [
       "(71.02362694300518, 138.8661311914324)"
      ]
     },
     "execution_count": 53,
     "metadata": {},
     "output_type": "execute_result"
    }
   ],
   "source": [
    "def answer_six():\n",
    "\n",
    "    avg_non_spam=0\n",
    "    avg_spam=0\n",
    "\n",
    "    i=0\n",
    "    sum=0\n",
    "    for doc in spam_data[spam_data['target']==0]['text']:\n",
    "        sum+=len(doc)\n",
    "        i+=1\n",
    "    avg_non_spam=sum/i\n",
    "\n",
    "    i=0\n",
    "    sum=0\n",
    "    for doc in spam_data[spam_data['target']==1]['text']:\n",
    "        sum+=len(doc)\n",
    "        i+=1\n",
    "    avg_spam=sum/i\n",
    "    \n",
    "    return (avg_non_spam,avg_spam)#Your answer here\n",
    "\n",
    "answer_six()\n",
    "    "
   ]
  },
  {
   "cell_type": "code",
   "execution_count": null,
   "metadata": {
    "collapsed": true
   },
   "outputs": [],
   "source": [
    "answer_six()"
   ]
  },
  {
   "cell_type": "markdown",
   "metadata": {},
   "source": [
    "<br>\n",
    "<br>\n",
    "The following function has been provided to help you combine new features into the training data:"
   ]
  },
  {
   "cell_type": "code",
   "execution_count": 4,
   "metadata": {},
   "outputs": [],
   "source": [
    "def add_feature(X, feature_to_add):\n",
    "    \"\"\"\n",
    "    Returns sparse feature matrix with added feature.\n",
    "    feature_to_add can also be a list of features.\n",
    "    \"\"\"\n",
    "    from scipy.sparse import csr_matrix, hstack\n",
    "    return hstack([X, csr_matrix(feature_to_add).T], 'csr')"
   ]
  },
  {
   "cell_type": "markdown",
   "metadata": {},
   "source": [
    "### Question 7\n",
    "\n",
    "Fit and transform the training data X_train using a Tfidf Vectorizer ignoring terms that have a document frequency strictly lower than **5**.\n",
    "\n",
    "Using this document-term matrix and an additional feature, **the length of document (number of characters)**, fit a Support Vector Classification model with regularization `C=10000`. Then compute the area under the curve (AUC) score using the transformed test data.\n",
    "\n",
    "*This function should return the AUC score as a float.*"
   ]
  },
  {
   "cell_type": "code",
   "execution_count": 7,
   "metadata": {},
   "outputs": [
    {
     "name": "stderr",
     "output_type": "stream",
     "text": [
      "/Users/kwangtaek/opt/anaconda3/lib/python3.7/site-packages/sklearn/svm/base.py:193: FutureWarning: The default value of gamma will change from 'auto' to 'scale' in version 0.22 to account better for unscaled features. Set gamma explicitly to 'auto' or 'scale' to avoid this warning.\n",
      "  \"avoid this warning.\", FutureWarning)\n"
     ]
    },
    {
     "data": {
      "text/plain": [
       "0.9581366823421557"
      ]
     },
     "execution_count": 7,
     "metadata": {},
     "output_type": "execute_result"
    }
   ],
   "source": [
    "from sklearn.svm import SVC\n",
    "from sklearn.metrics import roc_auc_score\n",
    "from sklearn.feature_extraction.text import TfidfVectorizer\n",
    "\n",
    "def answer_seven():\n",
    "    vect=TfidfVectorizer(min_df=5).fit(X_train)\n",
    "    X_train_vect=vect.transform(X_train)\n",
    "    added_x_train_vect=add_feature(X_train_vect,np.array([len(i) for i in X_train]))\n",
    "\n",
    "    X_test_vect=vect.transform(X_test)\n",
    "    added_x_test_vect=add_feature(X_test_vect,np.array([len(i) for i in X_test]))\n",
    "\n",
    "    clf=SVC(C=10000) \n",
    "    clf.fit(added_x_train_vect,y_train)\n",
    "    pred=clf.predict(added_x_test_vect)\n",
    "\n",
    "    return roc_auc_score(y_test,pred)\n",
    "\n",
    "\n",
    "answer_seven() \n"
   ]
  },
  {
   "cell_type": "markdown",
   "metadata": {},
   "source": [
    "### Question 8\n",
    "\n",
    "What is the average number of digits per document for not spam and spam documents?\n",
    "\n",
    "*This function should return a tuple (average # digits not spam, average # digits spam).*"
   ]
  },
  {
   "cell_type": "code",
   "execution_count": 23,
   "metadata": {},
   "outputs": [
    {
     "data": {
      "text/plain": [
       "(0.2992746113989637, 15.759036144578314)"
      ]
     },
     "execution_count": 23,
     "metadata": {},
     "output_type": "execute_result"
    }
   ],
   "source": [
    "def answer_eight():\n",
    "\n",
    "    def get_digit(str_v):\n",
    "        sum_dig=0\n",
    "        for i in str_v:\n",
    "            if i.isdigit():\n",
    "                sum_dig += 1;\n",
    "        return sum_dig\n",
    "\n",
    "    sum_digit_len_non_spam_doc = 0\n",
    "    sum_len_non_spam_doc = 0\n",
    "    for i in spam_data[spam_data['target']==0]['text']:\n",
    "        sum_len_non_spam_doc += 1\n",
    "        sum_digit_len_non_spam_doc += get_digit(i)\n",
    "\n",
    "    sum_digit_len_spam_doc = 0\n",
    "    sum_len_spam_doc = 0\n",
    "    for i in spam_data[spam_data['target']==1]['text']:\n",
    "        sum_len_spam_doc += 1\n",
    "        sum_digit_len_spam_doc += get_digit(i)\n",
    "\n",
    "    return (sum_digit_len_non_spam_doc/sum_len_non_spam_doc),(sum_digit_len_spam_doc/sum_len_spam_doc)#Your answer here\n",
    "\n",
    "answer_eight()\n",
    "    \n",
    "    "
   ]
  },
  {
   "cell_type": "markdown",
   "metadata": {},
   "source": [
    "### Question 9\n",
    "\n",
    "Fit and transform the training data `X_train` using a Tfidf Vectorizer ignoring terms that have a document frequency strictly lower than **5** and using **word n-grams from n=1 to n=3** (unigrams, bigrams, and trigrams).\n",
    "\n",
    "Using this document-term matrix and the following additional features:\n",
    "* the length of document (number of characters)\n",
    "* **number of digits per document**\n",
    "\n",
    "fit a Logistic Regression model with regularization `C=100`. Then compute the area under the curve (AUC) score using the transformed test data.\n",
    "\n",
    "*This function should return the AUC score as a float.*"
   ]
  },
  {
   "cell_type": "code",
   "execution_count": 28,
   "metadata": {},
   "outputs": [
    {
     "name": "stderr",
     "output_type": "stream",
     "text": [
      "/Users/kwangtaek/opt/anaconda3/lib/python3.7/site-packages/sklearn/linear_model/logistic.py:432: FutureWarning: Default solver will be changed to 'lbfgs' in 0.22. Specify a solver to silence this warning.\n",
      "  FutureWarning)\n"
     ]
    },
    {
     "data": {
      "text/plain": [
       "0.9678709064054463"
      ]
     },
     "execution_count": 28,
     "metadata": {},
     "output_type": "execute_result"
    }
   ],
   "source": [
    "from sklearn.linear_model import LogisticRegression\n",
    "from sklearn.metrics import roc_auc_score\n",
    "from sklearn.feature_extraction.text import TfidfVectorizer\n",
    "\n",
    "def answer_nine():\n",
    "    def get_digit(str_v):\n",
    "        sum_dig=0\n",
    "        for i in str_v:\n",
    "             if i.isdigit():\n",
    "                sum_dig += 1;\n",
    "        return sum_dig\n",
    "\n",
    "    vect=TfidfVectorizer(ngram_range=(1, 3),min_df=5).fit(X_train)\n",
    "    X_train_vect=vect.transform(X_train)\n",
    "    add_x_train_vect=add_feature(X_train_vect,np.array([len(i) for i in X_train]))\n",
    "    add_x_train_vect=add_feature(X_train_vect,np.array([get_digit(i) for i in X_train]))\n",
    "\n",
    "    X_test_vect=vect.transform(X_test)\n",
    "    add_x_test_vect=add_feature(X_test_vect,np.array([len(i) for i in X_test]))\n",
    "    add_x_test_vect=add_feature(X_test_vect,np.array([get_digit(i) for i in X_test]))\n",
    "\n",
    "    model = LogisticRegression(C=100)\n",
    "    model.fit(add_x_train_vect,y_train)\n",
    "\n",
    "    predict = model.predict(add_x_test_vect)\n",
    "    \n",
    "    return roc_auc_score(y_test,predict)\n",
    "\n",
    "answer_nine()"
   ]
  },
  {
   "cell_type": "markdown",
   "metadata": {},
   "source": [
    "### Question 10\n",
    "\n",
    "What is the average number of non-word characters (anything other than a letter, digit or underscore) per document for not spam and spam documents?\n",
    "\n",
    "*Hint: Use `\\w` and `\\W` character classes*\n",
    "\n",
    "*This function should return a tuple (average # non-word characters not spam, average # non-word characters spam).*"
   ]
  },
  {
   "cell_type": "code",
   "execution_count": 45,
   "metadata": {},
   "outputs": [
    {
     "data": {
      "text/plain": [
       "(17.29181347150259, 29.041499330655956)"
      ]
     },
     "execution_count": 45,
     "metadata": {},
     "output_type": "execute_result"
    }
   ],
   "source": [
    "def answer_ten():\n",
    "\n",
    "    def get_non_char_num(var):\n",
    "        import re \n",
    "        regx=re.compile('\\W')\n",
    "        result=regx.findall(var)\n",
    "        return len(result)\n",
    "\n",
    "    sum_no_spam=0\n",
    "    sum_no_spam_doc=0\n",
    "    sum_spam=0\n",
    "    sum_spam_doc=0\n",
    "    for txt in spam_data[spam_data['target']==0]['text']:\n",
    "        sum_no_spam += get_non_char_num(txt)\n",
    "        sum_no_spam_doc += 1\n",
    "    for txt in spam_data[spam_data['target']==1]['text']:\n",
    "        sum_spam += get_non_char_num(txt)\n",
    "        sum_spam_doc += 1\n",
    "\n",
    "    return ((sum_no_spam/sum_no_spam_doc),(sum_spam/sum_spam_doc))\n",
    "\n",
    "answer_ten()\n",
    "\n",
    "    "
   ]
  },
  {
   "cell_type": "markdown",
   "metadata": {},
   "source": [
    "### Question 11\n",
    "\n",
    "Fit and transform the training data X_train using a Count Vectorizer ignoring terms that have a document frequency strictly lower than **5** and using **character n-grams from n=2 to n=5.**\n",
    "\n",
    "To tell Count Vectorizer to use character n-grams pass in `analyzer='char_wb'` which creates character n-grams only from text inside word boundaries. This should make the model more robust to spelling mistakes.\n",
    "\n",
    "Using this document-term matrix and the following additional features:\n",
    "* the length of document (number of characters)\n",
    "* number of digits per document\n",
    "* **number of non-word characters (anything other than a letter, digit or underscore.)**\n",
    "\n",
    "fit a Logistic Regression model with regularization C=100. Then compute the area under the curve (AUC) score using the transformed test data.\n",
    "\n",
    "Also **find the 10 smallest and 10 largest coefficients from the model** and return them along with the AUC score in a tuple.\n",
    "\n",
    "The list of 10 smallest coefficients should be sorted smallest first, the list of 10 largest coefficients should be sorted largest first.\n",
    "\n",
    "The three features that were added to the document term matrix should have the following names should they appear in the list of coefficients:\n",
    "['length_of_doc', 'digit_count', 'non_word_char_count']\n",
    "\n",
    "*This function should return a tuple `(AUC score as a float, smallest coefs list, largest coefs list)`.*"
   ]
  },
  {
   "cell_type": "code",
   "execution_count": 64,
   "metadata": {},
   "outputs": [
    {
     "name": "stderr",
     "output_type": "stream",
     "text": [
      "/Users/kwangtaek/opt/anaconda3/lib/python3.7/site-packages/sklearn/linear_model/logistic.py:432: FutureWarning: Default solver will be changed to 'lbfgs' in 0.22. Specify a solver to silence this warning.\n",
      "  FutureWarning)\n"
     ]
    },
    {
     "data": {
      "text/plain": [
       "(0.9763212400047536,\n",
       " ['..', '? ', '. ', ' i', ':)', ' y', ' m', ' go', ') ', 'he'],\n",
       " [' 0', ' 1', '50', '08', '00', '15', '46', '80', '0p', 'mob'])"
      ]
     },
     "execution_count": 64,
     "metadata": {},
     "output_type": "execute_result"
    }
   ],
   "source": [
    "def answer_eleven():\n",
    "    from sklearn.linear_model import LogisticRegression\n",
    "    from sklearn.metrics import roc_auc_score\n",
    "    from sklearn.feature_extraction.text import CountVectorizer\n",
    "\n",
    "    def get_digit(str_v):\n",
    "        sum_dig=0\n",
    "        for i in str_v:\n",
    "            if i.isdigit():\n",
    "                sum_dig += 1;\n",
    "        return sum_dig\n",
    "\n",
    "    def get_non_char_num(var):\n",
    "        import re \n",
    "        regx=re.compile('\\W')\n",
    "        result=regx.findall(var)\n",
    "        return len(result)\n",
    "\n",
    "    vect=CountVectorizer(ngram_range=(2, 5),min_df=5,analyzer='char_wb').fit(X_train)\n",
    "    X_train_vect=vect.transform(X_train)\n",
    "    add_x_train_vect=add_feature(X_train_vect,np.array([len(i) for i in X_train]))\n",
    "    add_x_train_vect=add_feature(X_train_vect,np.array([get_digit(i) for i in X_train]))\n",
    "    add_x_train_vect=add_feature(X_train_vect,np.array([get_non_char_num(i) for i in X_train]))\n",
    "\n",
    "    X_test_vect=vect.transform(X_test)\n",
    "    add_x_test_vect=add_feature(X_test_vect,np.array([len(i) for i in X_test]))\n",
    "    add_x_test_vect=add_feature(X_test_vect,np.array([get_digit(i) for i in X_test]))\n",
    "    add_x_test_vect=add_feature(X_test_vect,np.array([get_non_char_num(i) for i in X_test]))\n",
    "\n",
    "    model = LogisticRegression(C=100)\n",
    "    model.fit(add_x_train_vect,y_train)\n",
    "\n",
    "    predict = model.predict(add_x_test_vect)\n",
    "\n",
    "    roc_auc_score(y_test,predict)\n",
    "\n",
    "    feature_names = np.array(vect.get_feature_names())\n",
    "    sorted_coef_index=model.coef_[0].argsort()\n",
    "    \n",
    "    return (roc_auc_score(y_test,predict),feature_names[sorted_coef_index[:10]].tolist(),feature_names[sorted_coef_index[:-11:-1]].tolist())#Your answer here\n",
    "\n",
    "answer_eleven()"
   ]
  },
  {
   "cell_type": "code",
   "execution_count": null,
   "metadata": {
    "collapsed": true
   },
   "outputs": [],
   "source": []
  }
 ],
 "metadata": {
  "coursera": {
   "course_slug": "python-text-mining",
   "graded_item_id": "Pn19K",
   "launcher_item_id": "y1juS",
   "part_id": "ctlgo"
  },
  "kernelspec": {
   "display_name": "Python 3",
   "language": "python",
   "name": "python3"
  },
  "language_info": {
   "codemirror_mode": {
    "name": "ipython",
    "version": 3
   },
   "file_extension": ".py",
   "mimetype": "text/x-python",
   "name": "python",
   "nbconvert_exporter": "python",
   "pygments_lexer": "ipython3",
   "version": "3.7.4"
  }
 },
 "nbformat": 4,
 "nbformat_minor": 2
}
