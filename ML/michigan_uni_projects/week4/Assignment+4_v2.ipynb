{
 "cells": [
  {
   "cell_type": "markdown",
   "metadata": {},
   "source": [
    "---\n",
    "\n",
    "_You are currently looking at **version 1.1** of this notebook. To download notebooks and datafiles, as well as get help on Jupyter notebooks in the Coursera platform, visit the [Jupyter Notebook FAQ](https://www.coursera.org/learn/python-machine-learning/resources/bANLa) course resource._\n",
    "\n",
    "---"
   ]
  },
  {
   "cell_type": "markdown",
   "metadata": {},
   "source": [
    "## Assignment 4 - Understanding and Predicting Property Maintenance Fines\n",
    "\n",
    "This assignment is based on a data challenge from the Michigan Data Science Team ([MDST](http://midas.umich.edu/mdst/)). \n",
    "\n",
    "The Michigan Data Science Team ([MDST](http://midas.umich.edu/mdst/)) and the Michigan Student Symposium for Interdisciplinary Statistical Sciences ([MSSISS](https://sites.lsa.umich.edu/mssiss/)) have partnered with the City of Detroit to help solve one of the most pressing problems facing Detroit - blight. [Blight violations](http://www.detroitmi.gov/How-Do-I/Report/Blight-Complaint-FAQs) are issued by the city to individuals who allow their properties to remain in a deteriorated condition. Every year, the city of Detroit issues millions of dollars in fines to residents and every year, many of these fines remain unpaid. Enforcing unpaid blight fines is a costly and tedious process, so the city wants to know: how can we increase blight ticket compliance?\n",
    "\n",
    "The first step in answering this question is understanding when and why a resident might fail to comply with a blight ticket. This is where predictive modeling comes in. For this assignment, your task is to predict whether a given blight ticket will be paid on time.\n",
    "\n",
    "All data for this assignment has been provided to us through the [Detroit Open Data Portal](https://data.detroitmi.gov/). **Only the data already included in your Coursera directory can be used for training the model for this assignment.** Nonetheless, we encourage you to look into data from other Detroit datasets to help inform feature creation and model selection. We recommend taking a look at the following related datasets:\n",
    "\n",
    "* [Building Permits](https://data.detroitmi.gov/Property-Parcels/Building-Permits/xw2a-a7tf)\n",
    "* [Trades Permits](https://data.detroitmi.gov/Property-Parcels/Trades-Permits/635b-dsgv)\n",
    "* [Improve Detroit: Submitted Issues](https://data.detroitmi.gov/Government/Improve-Detroit-Submitted-Issues/fwz3-w3yn)\n",
    "* [DPD: Citizen Complaints](https://data.detroitmi.gov/Public-Safety/DPD-Citizen-Complaints-2016/kahe-efs3)\n",
    "* [Parcel Map](https://data.detroitmi.gov/Property-Parcels/Parcel-Map/fxkw-udwf)\n",
    "\n",
    "___\n",
    "\n",
    "We provide you with two data files for use in training and validating your models: train.csv and test.csv. Each row in these two files corresponds to a single blight ticket, and includes information about when, why, and to whom each ticket was issued. The target variable is compliance, which is True if the ticket was paid early, on time, or within one month of the hearing data, False if the ticket was paid after the hearing date or not at all, and Null if the violator was found not responsible. Compliance, as well as a handful of other variables that will not be available at test-time, are only included in train.csv.\n",
    "\n",
    "Note: All tickets where the violators were found not responsible are not considered during evaluation. They are included in the training set as an additional source of data for visualization, and to enable unsupervised and semi-supervised approaches. However, they are not included in the test set.\n",
    "\n",
    "<br>\n",
    "\n",
    "**File descriptions** (Use only this data for training your model!)\n",
    "\n",
    "    readonly/train.csv - the training set (all tickets issued 2004-2011)\n",
    "    readonly/test.csv - the test set (all tickets issued 2012-2016)\n",
    "    readonly/addresses.csv & readonly/latlons.csv - mapping from ticket id to addresses, and from addresses to lat/lon coordinates. \n",
    "     Note: misspelled addresses may be incorrectly geolocated.\n",
    "\n",
    "<br>\n",
    "\n",
    "**Data fields**\n",
    "\n",
    "train.csv & test.csv\n",
    "\n",
    "    ticket_id - unique identifier for tickets\n",
    "    agency_name - Agency that issued the ticket\n",
    "    inspector_name - Name of inspector that issued the ticket\n",
    "    violator_name - Name of the person/organization that the ticket was issued to\n",
    "    violation_street_number, violation_street_name, violation_zip_code - Address where the violation occurred\n",
    "    mailing_address_str_number, mailing_address_str_name, city, state, zip_code, non_us_str_code, country - Mailing address of the violator\n",
    "    ticket_issued_date - Date and time the ticket was issued\n",
    "    hearing_date - Date and time the violator's hearing was scheduled\n",
    "    violation_code, violation_description - Type of violation\n",
    "    disposition - Judgment and judgement type\n",
    "    fine_amount - Violation fine amount, excluding fees\n",
    "    admin_fee - $20 fee assigned to responsible judgments\n",
    "state_fee - $10 fee assigned to responsible judgments\n",
    "    late_fee - 10% fee assigned to responsible judgments\n",
    "    discount_amount - discount applied, if any\n",
    "    clean_up_cost - DPW clean-up or graffiti removal cost\n",
    "    judgment_amount - Sum of all fines and fees\n",
    "    grafitti_status - Flag for graffiti violations\n",
    "    \n",
    "train.csv only\n",
    "\n",
    "    payment_amount - Amount paid, if any\n",
    "    payment_date - Date payment was made, if it was received\n",
    "    payment_status - Current payment status as of Feb 1 2017\n",
    "    balance_due - Fines and fees still owed\n",
    "    collection_status - Flag for payments in collections\n",
    "    compliance [target variable for prediction] \n",
    "     Null = Not responsible\n",
    "     0 = Responsible, non-compliant\n",
    "     1 = Responsible, compliant\n",
    "    compliance_detail - More information on why each ticket was marked compliant or non-compliant\n",
    "\n",
    "\n",
    "___\n",
    "\n",
    "## Evaluation\n",
    "\n",
    "Your predictions will be given as the probability that the corresponding blight ticket will be paid on time.\n",
    "\n",
    "The evaluation metric for this assignment is the Area Under the ROC Curve (AUC). \n",
    "\n",
    "Your grade will be based on the AUC score computed for your classifier. A model which with an AUROC of 0.7 passes this assignment, over 0.75 will recieve full points.\n",
    "___\n",
    "\n",
    "For this assignment, create a function that trains a model to predict blight ticket compliance in Detroit using `readonly/train.csv`. Using this model, return a series of length 61001 with the data being the probability that each corresponding ticket from `readonly/test.csv` will be paid, and the index being the ticket_id.\n",
    "\n",
    "Example:\n",
    "\n",
    "    ticket_id\n",
    "       284932    0.531842\n",
    "       285362    0.401958\n",
    "       285361    0.105928\n",
    "       285338    0.018572\n",
    "                 ...\n",
    "       376499    0.208567\n",
    "       376500    0.818759\n",
    "       369851    0.018528\n",
    "       Name: compliance, dtype: float32\n",
    "       \n",
    "### Hints\n",
    "\n",
    "* Make sure your code is working before submitting it to the autograder.\n",
    "\n",
    "* Print out your result to see whether there is anything weird (e.g., all probabilities are the same).\n",
    "\n",
    "* Generally the total runtime should be less than 10 mins. You should NOT use Neural Network related classifiers (e.g., MLPClassifier) in this question. \n",
    "\n",
    "* Try to avoid global variables. If you have other functions besides blight_model, you should move those functions inside the scope of blight_model.\n",
    "\n",
    "* Refer to the pinned threads in Week 4's discussion forum when there is something you could not figure it out."
   ]
  },
  {
   "cell_type": "markdown",
   "metadata": {
    "collapsed": true
   },
   "source": [
    "import pandas as pd\n",
    "import numpy as np\n",
    "\n",
    "def blight_model():\n",
    "    \n",
    "    # Your code here\n",
    "    \n",
    "    return # Your answer here"
   ]
  },
  {
   "cell_type": "code",
   "execution_count": 49,
   "metadata": {
    "scrolled": true
   },
   "outputs": [
    {
     "name": "stderr",
     "output_type": "stream",
     "text": [
      "/Users/kwangtaek/opt/anaconda3/lib/python3.7/site-packages/IPython/core/interactiveshell.py:3058: DtypeWarning: Columns (11,12,31) have mixed types. Specify dtype option on import or set low_memory=False.\n",
      "  interactivity=interactivity, compiler=compiler, result=result)\n"
     ]
    },
    {
     "name": "stdout",
     "output_type": "stream",
     "text": [
      "Fitting 3 folds for each of 100 candidates, totalling 300 fits\n"
     ]
    },
    {
     "name": "stderr",
     "output_type": "stream",
     "text": [
      "[Parallel(n_jobs=-1)]: Using backend LokyBackend with 8 concurrent workers.\n",
      "[Parallel(n_jobs=-1)]: Done  25 tasks      | elapsed:  2.8min\n",
      "[Parallel(n_jobs=-1)]: Done 146 tasks      | elapsed: 12.7min\n",
      "[Parallel(n_jobs=-1)]: Done 300 out of 300 | elapsed: 25.9min finished\n"
     ]
    },
    {
     "data": {
      "text/plain": [
       "{'n_estimators': 800,\n",
       " 'min_samples_split': 5,\n",
       " 'min_samples_leaf': 2,\n",
       " 'max_features': 'auto',\n",
       " 'max_depth': None,\n",
       " 'bootstrap': True}"
      ]
     },
     "execution_count": 49,
     "metadata": {},
     "output_type": "execute_result"
    }
   ],
   "source": [
    "#blight_model()\n",
    "\n",
    "\n",
    "#reference\n",
    "#1) https://stackabuse.com/gradient-boosting-classifiers-in-python-with-scikit-learn/\n",
    "#2) https://www.datacareer.de/blog/parameter-tuning-in-gradient-boosting-gbm/\n",
    "#3) https://datascienceschool.net/view-notebook/ff4b5d491cc34f94aea04baca86fbef8/\n",
    "#4) https://towardsdatascience.com/hyperparameter-tuning-the-random-forest-in-python-using-scikit-learn-28d2aa77dd74\n",
    "import pandas as pd\n",
    "import numpy as np\n",
    "import matplotlib.pyplot as plt\n",
    "from sklearn.model_selection import train_test_split\n",
    "from sklearn.ensemble import GradientBoostingClassifier\n",
    "from sklearn.ensemble import RandomForestClassifier\n",
    "from sklearn.model_selection import RandomizedSearchCV\n",
    "from sklearn.metrics import classification_report\n",
    "from sklearn.model_selection import GridSearchCV\n",
    "from sklearn.metrics import roc_auc_score\n",
    "from sklearn.metrics import roc_curve \n",
    "from sklearn.pipeline import Pipeline\n",
    "\n",
    "import multiprocessing\n",
    "from sklearn.svm import SVC\n",
    "from sklearn.calibration import CalibratedClassifierCV\n",
    "\n",
    "#from sklearn.svm import SVC\n",
    "\n",
    "df_train_m=pd.read_csv('train.csv',encoding = \"ISO-8859-1\")\n",
    "df_test_m=pd.read_csv('test.csv',encoding = \"ISO-8859-1\")\n",
    "\n",
    "df_train_m=df_train_m[df_train_m['compliance'].notnull()]\n",
    "#data_train=df_train[df_train.columns[~df_train.columns.isin(['collection_status','compliance_detail','compliance'])]]\n",
    "data_train=df_train_m[['disposition','state_fee','late_fee','fine_amount','admin_fee','discount_amount','clean_up_cost','judgment_amount']]\n",
    "data_test=df_test_m[['disposition','state_fee','late_fee','fine_amount','admin_fee','discount_amount','clean_up_cost','judgment_amount']]\n",
    "target_train=df_train['compliance']\n",
    "\n",
    "data_train=pd.get_dummies(data_train,columns=['disposition'])\n",
    "data_test=pd.get_dummies(data_test,columns=['disposition'])\n",
    "# to set the same features(fields) on the test data with train data\n",
    "date_test_n=pd.DataFrame(data_test,columns=data_train.columns)\n",
    "\n",
    "\n",
    "X_train,X_test,y_train,y_test=train_test_split(data_train,target_train,stratify=target_train,random_state=0)\n",
    "\n",
    "\n",
    "param_range = [0.0001, 0.001, 0.01, 0.1, 1.0]\n",
    "#param_range = [0.01, 0.1]\n",
    "param_grid = [\n",
    "    {'clf__C': param_range, 'clf__kernel': ['linear']},\n",
    "    {'clf__C': param_range, 'clf__gamma': param_range, 'clf__kernel': ['rbf']}]\n",
    "pipe_svc = Pipeline([('clf', SVC(random_state=0))]) \n",
    "cores = multiprocessing.cpu_count() -2\n",
    "\n",
    "\n",
    "\n",
    "'''\n",
    "p_test = {'learning_rate':[0.15,0.1,0.05], 'n_estimators':[5,10,15]}\n",
    "tuning=GridSearchCV(estimator=GradientBoostingClassifier(max_depth=4,random_state=0),param_grid = p_test, scoring='accuracy',n_jobs=1, cv=5)\n",
    "tuning.fit(X_train,y_train)\n",
    "tuning.grid_scores_, tuning.best_params_, tuning.best_score_\n",
    "\n",
    "#for l_rate in lr_list:\n",
    "gbrt=GradientBoostingClassifier(random_state=0,n_estimators=10,learning_rate=0.01,max_depth=4)\n",
    "gbrt.fit(X_train,y_train)\n",
    "#print('-------------'+str(l_rate)+'-------------')\n",
    "print(gbrt.score(X_train,y_train))\n",
    "print(gbrt.score(X_test,y_test))\n",
    "#gbrt.predict_proba(data_test)\n",
    "#np.argmax(gbrt.decision_function(X_test),axis=1)\n",
    "\n",
    "baseline_roc_auc = roc_auc_score(y_test, gbrt.predict(X_test))\n",
    "print(baseline_roc_auc)\n",
    "\n",
    "\n",
    "gs = GridSearchCV(estimator=pipe_svc, param_grid=param_grid,scoring='accuracy', cv=3, n_jobs=cores)\n",
    "gs.fit(X_train,y_train)\n",
    "gs.best_params_, gs.best_score_\n",
    "'''\n",
    "\n",
    "#svm=CalibratedClassifierCV(SVC(C=10,kernel='rbf',gamma=0.1,random_state=0,probabilities=True))\n",
    "\n",
    "#print(str(g_var)+'='+str(svc.score(X_train,y_train)))\n",
    "##print(svc.predict_proba(date_test_n))\n",
    "#baseline_roc_auc = roc_auc_score(date_test_n, svc.predict(date_test_n))\n",
    "#print(baseline_roc_auc)\n",
    "\n",
    "'''\n",
    "final_df=pd.DataFrame({\n",
    "    'ticket_id':df_test['ticket_id'],\n",
    "    'probability':svc.predict_proba(date_test_n)\n",
    "})\n",
    "'''\n",
    "##svm=SVC(C=10,kernel='rbf',gamma=0.1,random_state=0,probability=True)\n",
    "##svc=svm.fit(X_train,y_train)\n",
    "##result_array=svc.predict_proba(date_test_n)\n",
    "\n",
    "#pd.Series(result_array[:,0],index=df_test['ticket_id']).rename('compliance')\n",
    "##baseline_roc_auc = roc_auc_score(y_test, rf.predict(X_test))\n",
    "##print(baseline_roc_auc)\n",
    "\n",
    "\n",
    "#rf=RandomForestClassifier(n_estimators=5,random_state=0)\n",
    "#rf=rf.fit(X_train,y_train)\n",
    "#result_array=rf.predict_proba(date_test_n)\n",
    "#rf.score(X_train,y_train)\n",
    "\n",
    "\n",
    "\n",
    "n_estimators = [10,50,100,200]\n",
    "max_features = ['auto', 'sqrt']\n",
    "max_depth = [3,5,10,15,20]\n",
    "max_depth.append(None)\n",
    "min_samples_split = [2, 5, 10]\n",
    "min_samples_leaf = [1, 2, 4]\n",
    "bootstrap = [True, False]\n",
    "\n",
    "random_grid = {'n_estimators': n_estimators,\n",
    "               'max_features': max_features,\n",
    "               'max_depth': max_depth,\n",
    "               'min_samples_split': min_samples_split,\n",
    "               'min_samples_leaf': min_samples_leaf,\n",
    "               'bootstrap': bootstrap}\n",
    "\n",
    "\n",
    "rf = RandomForestClassifier()\n",
    "rf_random = RandomizedSearchCV(estimator = rf, param_distributions = random_grid, n_iter = 100, cv = 3, verbose=2, random_state=42, n_jobs = -1)\n",
    "rf_random.fit(X_train, y_train)\n",
    "rf_random.best_params_\n",
    "\n"
   ]
  },
  {
   "cell_type": "code",
   "execution_count": 60,
   "metadata": {},
   "outputs": [
    {
     "name": "stdout",
     "output_type": "stream",
     "text": [
      "0.9429822366775081\n"
     ]
    }
   ],
   "source": [
    "from sklearn.metrics import accuracy_score\n",
    "#pd.Series(result_array[:,0],index=df_test['ticket_id']).rename('compliance')\n",
    "rf_fin = RandomForestClassifier(n_estimators=800,min_samples_split=5,min_samples_leaf=2,max_features='auto',bootstrap=True)\n",
    "rfs=rf_fin.fit(X_train, y_train)\n",
    "\n",
    "predict=rf_fin.predict(X_test)\n",
    "accuracy = accuracy_score(y_test, predict)\n",
    "print(accuracy)\n",
    "\n",
    "https://liujing.neocities.org/newworld/datascience/Python/fundamentals-of-ml/mywork/4.Understanding%20and%20Predicting%20Property%20Maintenance%20Fines.html\n"
   ]
  },
  {
   "cell_type": "code",
   "execution_count": 11,
   "metadata": {},
   "outputs": [
    {
     "name": "stdout",
     "output_type": "stream",
     "text": [
      "0.9442665332332583\n"
     ]
    }
   ],
   "source": [
    "print(tuning.best_score_)"
   ]
  },
  {
   "cell_type": "code",
   "execution_count": 19,
   "metadata": {},
   "outputs": [
    {
     "name": "stdout",
     "output_type": "stream",
     "text": [
      "0.935218080227\n",
      "0.933900425319\n",
      "0.600447558613\n"
     ]
    }
   ],
   "source": [
    "gbrt=GradientBoostingClassifier(random_state=0,n_estimators=20,learning_rate=0.75,max_depth=4,max_features=166)\n",
    "gbrt.fit(X_train,y_train)\n",
    "#print('-------------'+str(l_rate)+'-------------')\n",
    "print(gbrt.score(X_train,y_train))\n",
    "print(gbrt.score(X_test,y_test))\n",
    "baseline_roc_auc = roc_auc_score(y_test, gbrt.predict(X_test))\n",
    "#print(gbrt.predict(data_test))\n",
    "print(baseline_roc_auc)"
   ]
  },
  {
   "cell_type": "code",
   "execution_count": null,
   "metadata": {},
   "outputs": [],
   "source": [
    "from sklearn.pipeline import Pipeline\n",
    "from sklearn.svm import SVC\n",
    "pipe_svc = Pipeline([('clf', SVC(random_state=1))])\n",
    "param_range = [0.0001, 0.001, 0.01, 0.1]\n",
    "param_grid = [{'clf__C': param_range, 'clf__gamma': param_range, 'clf__kernel': ['rbf']}]\n",
    "\n",
    "gs = GridSearchCV(estimator=pipe_svc, param_grid=param_grid,\n",
    "                  scoring='accuracy', cv=5, n_jobs=1)\n",
    "gs=gs.fit(X_train,y_train)\n",
    "print(gs.best_score_)\n",
    "print(gs.best_params_)"
   ]
  },
  {
   "cell_type": "code",
   "execution_count": null,
   "metadata": {
    "collapsed": true
   },
   "outputs": [],
   "source": []
  }
 ],
 "metadata": {
  "coursera": {
   "course_slug": "python-machine-learning",
   "graded_item_id": "nNS8l",
   "launcher_item_id": "yWWk7",
   "part_id": "w8BSS"
  },
  "kernelspec": {
   "display_name": "Python 3",
   "language": "python",
   "name": "python3"
  },
  "language_info": {
   "codemirror_mode": {
    "name": "ipython",
    "version": 3
   },
   "file_extension": ".py",
   "mimetype": "text/x-python",
   "name": "python",
   "nbconvert_exporter": "python",
   "pygments_lexer": "ipython3",
   "version": "3.7.4"
  }
 },
 "nbformat": 4,
 "nbformat_minor": 2
}
